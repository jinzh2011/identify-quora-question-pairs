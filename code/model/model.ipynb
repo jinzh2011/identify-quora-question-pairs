{
 "cells": [
  {
   "cell_type": "code",
   "execution_count": null,
   "metadata": {
    "collapsed": true
   },
   "outputs": [],
   "source": [
    "from __future__ import print_function, division\n",
    "import logging\n",
    "logging.basicConfig(format='%(asctime)s : %(levelname)s : %(message)s', level=logging.INFO)\n"
   ]
  },
  {
   "cell_type": "code",
   "execution_count": null,
   "metadata": {
    "collapsed": false
   },
   "outputs": [],
   "source": [
    "import pandas as pd\n",
    "import numpy as np\n",
    "from xgboost import XGBClassifier\n",
    "import matplotlib.pyplot as plt\n",
    "%matplotlib inline\n",
    "pd.set_option('display.max_columns', None)\n",
    "plt.rcParams.update({'font.size': 22})\n",
    "from tqdm import tqdm\n",
    "from numpy import random\n",
    "from sklearn.decomposition import TruncatedSVD, NMF\n",
    "\n",
    "from sklearn import pipeline, preprocessing\n",
    "\n",
    "from sklearn.model_selection import train_test_split, cross_val_predict,cross_val_score, StratifiedShuffleSplit,GridSearchCV\n",
    "from sklearn.neighbors import KNeighborsClassifier\n",
    "from sklearn.linear_model import LogisticRegression\n",
    "from sklearn.metrics import confusion_matrix, precision_score, recall_score, \\\n",
    "                            accuracy_score, f1_score, roc_auc_score, roc_curve, \\\n",
    "                             precision_recall_curve,log_loss, confusion_matrix\n",
    "from sklearn.model_selection import learning_curve\n",
    "from sklearn.naive_bayes import GaussianNB, MultinomialNB\n",
    "from sklearn.svm import SVC\n",
    "from sklearn.tree import DecisionTreeClassifier\n",
    "from sklearn.ensemble import RandomForestClassifier\n",
    "from sklearn.base import BaseEstimator, TransformerMixin\n",
    "from sklearn.feature_extraction.text import CountVectorizer\n",
    "from sklearn.ensemble import GradientBoostingClassifier\n",
    "from sklearn.feature_selection import SelectKBest\n",
    "from sklearn.feature_extraction.text import CountVectorizer, TfidfVectorizer\n",
    "import nltk\n",
    "#from nltk import tokenize\n",
    "from nltk.sentiment.vader import SentimentIntensityAnalyzer\n",
    "from nltk.tokenize import word_tokenize, wordpunct_tokenize, WhitespaceTokenizer\n",
    "from nltk.chunk import ne_chunk\n",
    "from nltk.tag import pos_tag\n",
    "from nltk.stem.lancaster import LancasterStemmer\n",
    "from xgboost import XGBClassifier\n",
    "from fuzzywuzzy import fuzz\n",
    "from sklearn.metrics.pairwise import pairwise_distances\n",
    "#from scipy.spatial.distance import cosine, cityblock, jaccard, canberra, euclidean, minkowski, braycurtis\n",
    "import gensim\n",
    "from scipy.spatial.distance import cosine, cityblock, jaccard, canberra, euclidean, minkowski, braycurtis\n",
    "from sklearn.manifold import TSNE"
   ]
  },
  {
   "cell_type": "code",
   "execution_count": null,
   "metadata": {
    "collapsed": false
   },
   "outputs": [],
   "source": [
    "df = pd.read_csv('../data/quora_duplicate_questions.tsv', sep='\\t')\n",
    "df.fillna('',inplace = True)"
   ]
  },
  {
   "cell_type": "code",
   "execution_count": null,
   "metadata": {
    "collapsed": false
   },
   "outputs": [],
   "source": [
    "X,y  = df[['question1','question2']], df['is_duplicate']"
   ]
  },
  {
   "cell_type": "code",
   "execution_count": null,
   "metadata": {
    "collapsed": false
   },
   "outputs": [],
   "source": [
    "X_train, X_test, y_train, y_test = train_test_split(X,y, test_size=0.3, random_state=89)"
   ]
  },
  {
   "cell_type": "code",
   "execution_count": null,
   "metadata": {
    "collapsed": true
   },
   "outputs": [],
   "source": [
    "df_s2vec = pd.read_csv('../data/df_s2vec.csv')\n",
    "\n",
    "df_tfidf = pd.read_csv('../data/df_tfidf.csv')\n",
    "df_tfidf_stop = pd.read_csv('../data/df_tfidf_stop.csv')\n",
    "\n",
    "df_reduced_tf = pd.read_csv('../data/df_reduced_tf.csv')\n",
    "df_reduced_stop_tf = pd.read_csv('../data/df_reduced_stop_tf.csv')\n",
    "\n",
    "df_raw = pd.read_csv('../data/df_raw.csv')\n",
    "\n",
    "df_fuzz = pd.read_csv('../data/df_fuzz.csv')"
   ]
  },
  {
   "cell_type": "code",
   "execution_count": null,
   "metadata": {
    "collapsed": false
   },
   "outputs": [],
   "source": [
    "df_basic = pd.concat([df_raw,df_fuzz,df_tfidf,df_s2vec,df_reduced_tf,df_tfidf_stop,df_reduced_stop_tf], axis=1)"
   ]
  },
  {
   "cell_type": "code",
   "execution_count": null,
   "metadata": {
    "collapsed": false
   },
   "outputs": [],
   "source": [
    "df_basic = df_basic.apply(lambda x: x.fillna(x.max()),axis=0)"
   ]
  },
  {
   "cell_type": "code",
   "execution_count": null,
   "metadata": {
    "collapsed": true
   },
   "outputs": [],
   "source": [
    "class Get_Precalcualted_Features(BaseEstimator, TransformerMixin):\n",
    "    def __init__(self, **kwargs):\n",
    "        self.kwargs = kwargs\n",
    "        \n",
    "    def fit(self, X, y=None):\n",
    "        return self\n",
    "\n",
    "    def transform(self, X):\n",
    "        df_result = df_basic.loc[X.index,:]\n",
    "        return df_result\n",
    "    \n",
    "    def _get_param_names(self):\n",
    "        return df_basic.columns"
   ]
  },
  {
   "cell_type": "code",
   "execution_count": null,
   "metadata": {
    "collapsed": true
   },
   "outputs": [],
   "source": [
    "class Column_Selector(BaseEstimator, TransformerMixin):\n",
    "    def __init__(self,selected_columns, **kwargs):\n",
    "        self.kwargs = kwargs\n",
    "        self.selected_columns=selected_columns\n",
    "        \n",
    "    def fit(self, X, y=None):\n",
    "        return self\n",
    "    def transform(self,X):\n",
    "        return X[self.selected_columns]\n",
    "    "
   ]
  },
  {
   "cell_type": "code",
   "execution_count": null,
   "metadata": {
    "collapsed": false
   },
   "outputs": [],
   "source": [
    "for c in df_basic.columns:\n",
    "    selected_col = [c]\n",
    "    steps = [('test', Get_Precalcualted_Features()),\n",
    "             ('selector', Column_Selector(selected_col)),\n",
    "            ('lr', LogisticRegression())]\n",
    "    lr = pipeline.Pipeline(steps)\n",
    "    lr.fit(X_train,y_train)\n",
    "    lr_pred_proba = lr.predict_proba(X_test)[:,1]\n",
    "    print(c,'has log loss:', log_loss(y_test, lr_pred_proba))"
   ]
  },
  {
   "cell_type": "code",
   "execution_count": null,
   "metadata": {
    "collapsed": false
   },
   "outputs": [],
   "source": [
    "selected_tfidf = list(df_s2vec.columns)+list(df_tfidf.columns)\\\n",
    "                +list(df_raw.columns)+list(df_fuzz.columns)\n",
    "selected_tfidf_stop = list(df_s2vec.columns)+list(df_tfidf_stop.columns)\\\n",
    "                +list(df_raw.columns)+list(df_fuzz.columns)"
   ]
  },
  {
   "cell_type": "code",
   "execution_count": null,
   "metadata": {
    "collapsed": false
   },
   "outputs": [],
   "source": [
    "steps = [('test', Get_Precalcualted_Features()),\n",
    "        ('lr', LogisticRegression())]\n",
    "lr = pipeline.Pipeline(steps)\n",
    "lr.fit(X_train,y_train)\n",
    "lr_pred_proba = lr.predict_proba(X_test)[:,1]\n",
    "log_loss(y_test, lr_pred_proba)"
   ]
  },
  {
   "cell_type": "code",
   "execution_count": null,
   "metadata": {
    "collapsed": false
   },
   "outputs": [],
   "source": [
    "steps = [('test', Get_Precalcualted_Features()),\n",
    "        ('lr', LogisticRegression())]\n",
    "lr = pipeline.Pipeline(steps)\n",
    "\n",
    "cross_val_score(lr, X, y, scoring = 'neg_log_loss')"
   ]
  },
  {
   "cell_type": "code",
   "execution_count": null,
   "metadata": {
    "collapsed": true
   },
   "outputs": [],
   "source": [
    "def print_model_result(model, model_name,feature, feature_name,selected_col, X,y):\n",
    "\n",
    "    \n",
    "    steps = [(feature_name,feature),\n",
    "             ('selector', Column_Selector(selected_col)),\n",
    "             (model_name,model),]\n",
    "\n",
    "    reg = pipeline.Pipeline(steps)\n",
    "    reg.fit(X,y)\n",
    "    \n",
    "    print(model_name + ' test set has negative log log score:', np.mean(cross_val_score(reg, X, y, scoring = 'neg_log_loss')))\n",
    "    "
   ]
  },
  {
   "cell_type": "code",
   "execution_count": null,
   "metadata": {
    "collapsed": false
   },
   "outputs": [],
   "source": [
    "model_dict = {'logistic regression': LogisticRegression(),\n",
    "              'gaussian naive bayes': GaussianNB(),\n",
    "              'decision tree classifier': DecisionTreeClassifier(),\n",
    "              'random forest classifier': RandomForestClassifier(class_weight='balanced_subsample'),\n",
    "              'gradient boosting classifier': GradientBoostingClassifier(),\n",
    "              'xgb': XGBClassifier()\n",
    "\n",
    "             }\n",
    "\n",
    "feature_name = 'raw'\n",
    "feature = Get_Precalcualted_Features()\n",
    "for model_name, model in model_dict.items():\n",
    "    print_model_result(model, model_name,feature,feature_name,selected_tfidf_stop, X,y)\n",
    "    "
   ]
  },
  {
   "cell_type": "code",
   "execution_count": null,
   "metadata": {
    "collapsed": false
   },
   "outputs": [],
   "source": [
    "# Cross validated log loss\n",
    "model_dict = {'logistic regression': LogisticRegression(),\n",
    "              'gaussian naive bayes': GaussianNB(),\n",
    "              'decision tree classifier': DecisionTreeClassifier(),\n",
    "              'random forest classifier': RandomForestClassifier(class_weight='balanced_subsample'),\n",
    "              'gradient boosting classifier': GradientBoostingClassifier(),\n",
    "              'xgb': XGBClassifier()\n",
    "\n",
    "             }\n",
    "\n",
    "feature_name = 'raw'\n",
    "feature = Get_Precalcualted_Features()\n",
    "for model_name, model in model_dict.items():\n",
    "    print_model_result(model, model_name,feature,feature_name,selected_tfidf, X,y)\n",
    "    "
   ]
  },
  {
   "cell_type": "code",
   "execution_count": null,
   "metadata": {
    "collapsed": true
   },
   "outputs": [],
   "source": [
    "steps = [('feature', Get_Precalcualted_Features()),\n",
    "         ('selector', Column_Selector(list(df_raw.columns))),\n",
    "        ('xgb', XGBClassifier())]\n",
    "simple = pipeline.Pipeline(steps)\n",
    "simple.fit(X_train,y_train)\n",
    "simple_pred_proba = simple.predict_proba(X_test)[:,1]"
   ]
  },
  {
   "cell_type": "code",
   "execution_count": null,
   "metadata": {
    "collapsed": true
   },
   "outputs": [],
   "source": [
    "simple_pred_predict = simple.predict(X_test)"
   ]
  },
  {
   "cell_type": "code",
   "execution_count": null,
   "metadata": {
    "collapsed": false
   },
   "outputs": [],
   "source": [
    "simple_data = pd.concat([X_test,pd.Series(simple_pred_predict,index=y_test.index,name='predicted'), y_test], axis=1)"
   ]
  },
  {
   "cell_type": "code",
   "execution_count": null,
   "metadata": {
    "collapsed": false
   },
   "outputs": [],
   "source": [
    "simple_data[simple_data.predicted != simple_data.is_duplicate].to_csv('simple_wrong.csv',index=False)"
   ]
  },
  {
   "cell_type": "code",
   "execution_count": null,
   "metadata": {
    "collapsed": false
   },
   "outputs": [],
   "source": [
    "log_loss(y_test,simple_pred_proba)"
   ]
  },
  {
   "cell_type": "code",
   "execution_count": null,
   "metadata": {
    "collapsed": true
   },
   "outputs": [],
   "source": [
    "steps = [('feature', Get_Precalcualted_Features()),\n",
    "         ('selector', Column_Selector(list(df_raw.columns)+list(df_tfidf_stop.columns)+list(df_fuzz.columns))),\n",
    "        ('xgb', XGBClassifier())]\n",
    "medium = pipeline.Pipeline(steps)\n",
    "medium.fit(X_train,y_train)\n",
    "medium_pred_proba = medium.predict_proba(X_test)[:,1]"
   ]
  },
  {
   "cell_type": "code",
   "execution_count": null,
   "metadata": {
    "collapsed": false
   },
   "outputs": [],
   "source": [
    "log_loss(y_test,medium_pred_proba)"
   ]
  },
  {
   "cell_type": "code",
   "execution_count": null,
   "metadata": {
    "collapsed": true
   },
   "outputs": [],
   "source": [
    "medium_pred_predict = medium.predict(X_test)"
   ]
  },
  {
   "cell_type": "code",
   "execution_count": null,
   "metadata": {
    "collapsed": false
   },
   "outputs": [],
   "source": [
    "medium_data = pd.concat([X_test,pd.Series(medium_pred_predict,\\\n",
    "                                          index=y_test.index,name='predicted')\\\n",
    "                         , y_test], axis=1)"
   ]
  },
  {
   "cell_type": "code",
   "execution_count": null,
   "metadata": {
    "collapsed": true
   },
   "outputs": [],
   "source": [
    "medium_data[medium_data.predicted != medium_data.is_duplicate].to_csv('medium_wrong.csv',index=False)"
   ]
  },
  {
   "cell_type": "code",
   "execution_count": null,
   "metadata": {
    "collapsed": false
   },
   "outputs": [],
   "source": [
    "steps = [('feature', Get_Precalcualted_Features()),\n",
    "         ('selector', Column_Selector(selected_tfidf_stop)),\n",
    "        ('xgb', XGBClassifier())]\n",
    "advance = pipeline.Pipeline(steps)\n",
    "advance.fit(X_train,y_train)\n",
    "advance_pred_proba = advance.predict_proba(X_test)[:,1]"
   ]
  },
  {
   "cell_type": "code",
   "execution_count": null,
   "metadata": {
    "collapsed": false
   },
   "outputs": [],
   "source": [
    "log_loss(y_test,advance_pred_proba)"
   ]
  },
  {
   "cell_type": "code",
   "execution_count": null,
   "metadata": {
    "collapsed": true
   },
   "outputs": [],
   "source": [
    "def print_feature_importances(model,feature):\n",
    "    if 'feature_importances_' in dir(model):\n",
    "        coefs = list(model.feature_importances_)\n",
    "    elif 'coef_' in dir(model):\n",
    "        coefs = list(model.coef_[0])\n",
    "    if coefs:\n",
    "        feature_names = feature.get_params().keys()\n",
    "        features = sorted(zip(feature_names,coefs),key=lambda x: abs(x[1]),reverse=True)\n",
    "        for f in features:\n",
    "            print(\"{}: {}\".format(f[0],f[1]))"
   ]
  },
  {
   "cell_type": "code",
   "execution_count": null,
   "metadata": {
    "collapsed": false
   },
   "outputs": [],
   "source": [
    "model =  advance.named_steps['xgb']\n",
    "feature_union_step = advance.named_steps['feature']\n",
    "\n",
    "print_feature_importances(model,feature_union_step) "
   ]
  },
  {
   "cell_type": "code",
   "execution_count": null,
   "metadata": {
    "collapsed": true
   },
   "outputs": [],
   "source": [
    "advance_pred_predict = advance.predict(X_test)"
   ]
  },
  {
   "cell_type": "code",
   "execution_count": null,
   "metadata": {
    "collapsed": false
   },
   "outputs": [],
   "source": [
    "advance_data = pd.concat([X_test,pd.Series(advance_pred_predict,\\\n",
    "                                          index=y_test.index,name='predicted')\\\n",
    "                         , y_test], axis=1)"
   ]
  },
  {
   "cell_type": "code",
   "execution_count": null,
   "metadata": {
    "collapsed": true
   },
   "outputs": [],
   "source": [
    "advance_data[advance_data.predicted != advance_data.is_duplicate].to_csv('advance_wrong.csv',index=False)"
   ]
  },
  {
   "cell_type": "code",
   "execution_count": null,
   "metadata": {
    "collapsed": true
   },
   "outputs": [],
   "source": [
    "prec_simple, recall_simple, thresholds_simple = precision_recall_curve(y_test,simple_pred_proba)"
   ]
  },
  {
   "cell_type": "code",
   "execution_count": null,
   "metadata": {
    "collapsed": true
   },
   "outputs": [],
   "source": [
    "prec_medium, recall_medium, thresholds_medium = precision_recall_curve(y_test,medium_pred_proba)"
   ]
  },
  {
   "cell_type": "code",
   "execution_count": null,
   "metadata": {
    "collapsed": true
   },
   "outputs": [],
   "source": [
    "prec_advance, recall_advance, thresholds_advance = precision_recall_curve(y_test,advance_pred_proba)"
   ]
  },
  {
   "cell_type": "code",
   "execution_count": null,
   "metadata": {
    "collapsed": false
   },
   "outputs": [],
   "source": [
    "plt.figure(figsize=(20,10))\n",
    "plt.plot(prec_simple[0:-1], recall_simple[0:-1], color='blue')\n",
    "\n",
    "plt.plot(prec_medium[0:-1], recall_medium[0:-1],'red')\n",
    "plt.plot(prec_advance[0:-1], recall_advance[0:-1], color = 'black')\n",
    "\n",
    "plt.legend(['basic','basic+fuzz+tfidf','basic+fuzz+tfidf+quesiotn2vec'],fontsize=22)\n",
    "\n",
    "plt.title('precision-recall curve',fontsize=22)\n",
    "plt.xlabel('precision',fontsize=22)\n",
    "plt.ylabel('recall',fontsize=22);\n",
    "plt.savefig('precision_recall.png',fmt='png', dpi=300, bbox_inches='tight')"
   ]
  },
  {
   "cell_type": "code",
   "execution_count": null,
   "metadata": {
    "collapsed": false
   },
   "outputs": [],
   "source": [
    "accuracy_list = []\n",
    "\n",
    "for threshold in np.arange(0.01,0.99,0.01):\n",
    "    y_test_pred = np.array(advance_pred_proba>threshold).astype(int)\n",
    "    accuracy_list.append(accuracy_score(y_test, y_test_pred))"
   ]
  },
  {
   "cell_type": "code",
   "execution_count": null,
   "metadata": {
    "collapsed": false
   },
   "outputs": [],
   "source": [
    "max(accuracy_list)"
   ]
  },
  {
   "cell_type": "code",
   "execution_count": null,
   "metadata": {
    "collapsed": false
   },
   "outputs": [],
   "source": [
    "threshold = np.arange(0.01,0.99,0.01)[np.argmax(accuracy_list)]\n",
    "threshold"
   ]
  },
  {
   "cell_type": "code",
   "execution_count": null,
   "metadata": {
    "collapsed": true
   },
   "outputs": [],
   "source": [
    "y_advance_pred = np.array(advance_pred_proba>threshold).astype(int)"
   ]
  },
  {
   "cell_type": "code",
   "execution_count": null,
   "metadata": {
    "collapsed": false
   },
   "outputs": [],
   "source": [
    "accuracy_score(y_test,y_advance_pred)"
   ]
  }
 ],
 "metadata": {
  "kernelspec": {
   "display_name": "py27",
   "language": "python",
   "name": "py27"
  },
  "language_info": {
   "codemirror_mode": {
    "name": "ipython",
    "version": 2
   },
   "file_extension": ".py",
   "mimetype": "text/x-python",
   "name": "python",
   "nbconvert_exporter": "python",
   "pygments_lexer": "ipython2",
   "version": "2.7.13"
  }
 },
 "nbformat": 4,
 "nbformat_minor": 2
}
